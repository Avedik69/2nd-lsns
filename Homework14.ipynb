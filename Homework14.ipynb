{
 "cells": [
  {
   "cell_type": "code",
   "execution_count": 1,
   "id": "3509d2f5-3f37-4a1e-ae9d-2e521d462f95",
   "metadata": {},
   "outputs": [
    {
     "name": "stderr",
     "output_type": "stream",
     "text": [
      "Matplotlib is building the font cache; this may take a moment.\n"
     ]
    }
   ],
   "source": [
    "import numpy as np\n",
    "from scipy import stats\n",
    "import matplotlib.pyplot as plt\n",
    "from scipy.special import perm, comb, factorial"
   ]
  },
  {
   "cell_type": "code",
   "execution_count": 3,
   "id": "3e9e2490-421d-42cf-ba6e-6ca9264c43f8",
   "metadata": {},
   "outputs": [
    {
     "data": {
      "text/plain": [
       "24360.000000000004"
      ]
     },
     "execution_count": 3,
     "metadata": {},
     "output_type": "execute_result"
    }
   ],
   "source": [
    "n = factorial(30) / factorial(30-3)\n",
    "n"
   ]
  },
  {
   "cell_type": "code",
   "execution_count": 5,
   "id": "7140af06-6d12-4af3-aaa0-f5b02d6918a0",
   "metadata": {},
   "outputs": [
    {
     "data": {
      "text/plain": [
       "24360.0"
      ]
     },
     "execution_count": 5,
     "metadata": {},
     "output_type": "execute_result"
    }
   ],
   "source": [
    "k = np.array(3)\n",
    "n = np.array(30)\n",
    "perm(n, k)"
   ]
  },
  {
   "cell_type": "code",
   "execution_count": 7,
   "id": "4ea74b5c-c01d-4795-a443-ea795b03fec8",
   "metadata": {},
   "outputs": [
    {
     "data": {
      "text/plain": [
       "1024"
      ]
     },
     "execution_count": 7,
     "metadata": {},
     "output_type": "execute_result"
    }
   ],
   "source": [
    "n = 2**10\n",
    "n"
   ]
  },
  {
   "cell_type": "code",
   "execution_count": 9,
   "id": "7c59e506-23e3-44e7-93ee-7b6dc6f38519",
   "metadata": {},
   "outputs": [
    {
     "data": {
      "text/plain": [
       "80"
      ]
     },
     "execution_count": 9,
     "metadata": {},
     "output_type": "execute_result"
    }
   ],
   "source": [
    "n = 30+50\n",
    "n"
   ]
  },
  {
   "cell_type": "code",
   "execution_count": 11,
   "id": "c862926c-4368-48e8-a3da-1ce0d188bd7b",
   "metadata": {},
   "outputs": [
    {
     "data": {
      "text/plain": [
       "5040.0"
      ]
     },
     "execution_count": 11,
     "metadata": {},
     "output_type": "execute_result"
    }
   ],
   "source": [
    "n = factorial(7) \n",
    "n"
   ]
  },
  {
   "cell_type": "code",
   "execution_count": 13,
   "id": "d4deaeae-7187-42b8-8b26-37aa0f8aff10",
   "metadata": {},
   "outputs": [
    {
     "data": {
      "text/plain": [
       "30240.0"
      ]
     },
     "execution_count": 13,
     "metadata": {},
     "output_type": "execute_result"
    }
   ],
   "source": [
    "k = np.array(5)\n",
    "n = np.array(10)\n",
    "perm(n, k)"
   ]
  },
  {
   "cell_type": "code",
   "execution_count": 15,
   "id": "9693bd5f-6327-48ef-b331-d81ebf54c756",
   "metadata": {},
   "outputs": [
    {
     "data": {
      "text/plain": [
       "120.0"
      ]
     },
     "execution_count": 15,
     "metadata": {},
     "output_type": "execute_result"
    }
   ],
   "source": [
    "n = factorial(16) / (factorial(16-2) * factorial(2))\n",
    "n"
   ]
  },
  {
   "cell_type": "code",
   "execution_count": 17,
   "id": "dde3f4b3-4db7-4ee8-add4-a636e43e036a",
   "metadata": {},
   "outputs": [
    {
     "data": {
      "text/plain": [
       "100000"
      ]
     },
     "execution_count": 17,
     "metadata": {},
     "output_type": "execute_result"
    }
   ],
   "source": [
    "n = 10**5\n",
    "n"
   ]
  },
  {
   "cell_type": "code",
   "execution_count": 19,
   "id": "13e73a2c-caa3-4435-8026-b52a3013fdce",
   "metadata": {},
   "outputs": [
    {
     "data": {
      "text/plain": [
       "10"
      ]
     },
     "execution_count": 19,
     "metadata": {},
     "output_type": "execute_result"
    }
   ],
   "source": [
    "t = 3 # tree\n",
    "d = 3 # day\n",
    "comb(t , d, exact=True, repetition=True)"
   ]
  },
  {
   "cell_type": "code",
   "execution_count": 23,
   "id": "0cad11b7-c58b-4d2a-8e0e-fb1b9e1b6536",
   "metadata": {},
   "outputs": [
    {
     "data": {
      "text/plain": [
       "56.0"
      ]
     },
     "execution_count": 23,
     "metadata": {},
     "output_type": "execute_result"
    }
   ],
   "source": [
    "s = 5 # sum\n",
    "d = 4 # quantity chars\n",
    "n = factorial(d+s -1)/(factorial(d-1) * factorial(s))\n",
    "n"
   ]
  },
  {
   "cell_type": "code",
   "execution_count": 25,
   "id": "1049eeba-53dc-44ab-970c-b926ad2d4f75",
   "metadata": {},
   "outputs": [
    {
     "data": {
      "text/plain": [
       "16360143799.0"
      ]
     },
     "execution_count": 25,
     "metadata": {},
     "output_type": "execute_result"
    }
   ],
   "source": [
    "n = factorial(25)//(factorial(6) * factorial(9)* factorial(10))\n",
    "n"
   ]
  },
  {
   "cell_type": "code",
   "execution_count": 47,
   "id": "e84cf048-872e-4ced-98fa-85e4de66f069",
   "metadata": {},
   "outputs": [
    {
     "data": {
      "text/plain": [
       "210.0"
      ]
     },
     "execution_count": 47,
     "metadata": {},
     "output_type": "execute_result"
    }
   ],
   "source": [
    "n = factorial(7)//(factorial(3) * factorial(2)* factorial(2))\n",
    "n"
   ]
  },
  {
   "cell_type": "markdown",
   "id": "d9386dca-f066-453c-a436-6f4f47938aa2",
   "metadata": {},
   "source": [
    "Задача 1. В ящике 5 апельсинов и 4 яблока. Наудачу выбираются 3 фрукта. Какова вероятность, что все три фрукта – апельсины?\n"
   ]
  },
  {
   "cell_type": "code",
   "execution_count": 38,
   "id": "6a47fa99-832f-427a-9921-cda3950408af",
   "metadata": {},
   "outputs": [
    {
     "data": {
      "text/plain": [
       "84.0"
      ]
     },
     "execution_count": 38,
     "metadata": {},
     "output_type": "execute_result"
    }
   ],
   "source": [
    "all_fruit = factorial(9) // (factorial(9-3) * factorial(3))\n",
    "all_fruit"
   ]
  },
  {
   "cell_type": "code",
   "execution_count": 40,
   "id": "aaa41a91-e0da-4430-8ab8-4df34c3d0b74",
   "metadata": {},
   "outputs": [
    {
     "data": {
      "text/plain": [
       "10.0"
      ]
     },
     "execution_count": 40,
     "metadata": {},
     "output_type": "execute_result"
    }
   ],
   "source": [
    "all_orange = factorial(5) // (factorial(5-3) * factorial(3))\n",
    "all_orange"
   ]
  },
  {
   "cell_type": "code",
   "execution_count": 42,
   "id": "8bb585c3-da5d-469b-a399-dea20444f2af",
   "metadata": {},
   "outputs": [
    {
     "data": {
      "text/plain": [
       "0.11904761904761904"
      ]
     },
     "execution_count": 42,
     "metadata": {},
     "output_type": "execute_result"
    }
   ],
   "source": [
    "total =  all_orange / all_fruit\n",
    "total"
   ]
  },
  {
   "cell_type": "markdown",
   "id": "b26c30fb-8fbf-4ff5-bee6-88e7836a44c0",
   "metadata": {},
   "source": [
    "Задача 2. Преподаватель предлагает каждому из трех студентов задумать любое число от 1 до 10. Считая, что выбор каждым из студентов любого числа из заданных равновозможен, найти вероятность того, что у кого-то из них задуманные числа совпадут."
   ]
  },
  {
   "cell_type": "code",
   "execution_count": 49,
   "id": "a798c598-afe4-484a-8b3a-a607a9406002",
   "metadata": {},
   "outputs": [
    {
     "data": {
      "text/plain": [
       "1000"
      ]
     },
     "execution_count": 49,
     "metadata": {},
     "output_type": "execute_result"
    }
   ],
   "source": [
    "# всего исходов\n",
    "number = 10\n",
    "stud = 3\n",
    "max_ish = number**stud\n",
    "max_ish"
   ]
  },
  {
   "cell_type": "code",
   "execution_count": 51,
   "id": "bc3f6516-6af2-4df3-acf7-00d878f20cd7",
   "metadata": {},
   "outputs": [
    {
     "data": {
      "text/plain": [
       "720"
      ]
     },
     "execution_count": 51,
     "metadata": {},
     "output_type": "execute_result"
    }
   ],
   "source": [
    "# благоприятные исходы\n",
    "good_ish = number*(number-1)*(number-2)\n",
    "good_ish"
   ]
  },
  {
   "cell_type": "code",
   "execution_count": 53,
   "id": "a398cd14-9eaa-4d3c-af86-3ef78a1123eb",
   "metadata": {},
   "outputs": [
    {
     "data": {
      "text/plain": [
       "0.72"
      ]
     },
     "execution_count": 53,
     "metadata": {},
     "output_type": "execute_result"
    }
   ],
   "source": [
    "# Вероятность что все три числа разные.\n",
    "\n",
    "ver = good_ish/max_ish\n",
    "ver"
   ]
  },
  {
   "cell_type": "code",
   "execution_count": 55,
   "id": "bab3d8ba-15b9-438a-8f1f-ae0b7d95013e",
   "metadata": {},
   "outputs": [
    {
     "data": {
      "text/plain": [
       "0.28"
      ]
     },
     "execution_count": 55,
     "metadata": {},
     "output_type": "execute_result"
    }
   ],
   "source": [
    "# Но нам нужно чтобы 2 числа были одинаковвые\n",
    "\n",
    "total_ver = 1- ver\n",
    "total_ver"
   ]
  },
  {
   "cell_type": "markdown",
   "id": "36e576e0-8212-4bb8-b940-54163ce04183",
   "metadata": {},
   "source": [
    "Задача 3. Найти вероятность того, что в 8-значном числе ровно 4 цифры совпадают, а остальные различны."
   ]
  },
  {
   "cell_type": "code",
   "execution_count": 58,
   "id": "5db15dde-795d-4d54-b935-9a3e47837970",
   "metadata": {},
   "outputs": [],
   "source": [
    "# Мы можем выбрать любую из 10 цифр, значит 10 вариантов.\n",
    "t =10"
   ]
  },
  {
   "cell_type": "code",
   "execution_count": 60,
   "id": "fe177892-d2b6-4400-b8e6-acd404bfc2a1",
   "metadata": {},
   "outputs": [
    {
     "data": {
      "text/plain": [
       "126.0"
      ]
     },
     "execution_count": 60,
     "metadata": {},
     "output_type": "execute_result"
    }
   ],
   "source": [
    "# Остается 9 цифр из которых 4 должны быть одинаковые. Ищем сочетания\n",
    "all_socet = factorial(9) // (factorial(9-4) * factorial(4))\n",
    "all_socet"
   ]
  },
  {
   "cell_type": "code",
   "execution_count": 62,
   "id": "15c24768-3523-4446-8045-d393079921ce",
   "metadata": {},
   "outputs": [
    {
     "data": {
      "text/plain": [
       "70.0"
      ]
     },
     "execution_count": 62,
     "metadata": {},
     "output_type": "execute_result"
    }
   ],
   "source": [
    "# выбираем 4 позиции из 8(9-1) для этой цифры. Это сочетание\n",
    "poss_char = factorial(8) // (factorial(8-4) * factorial(4))\n",
    "poss_char"
   ]
  },
  {
   "cell_type": "code",
   "execution_count": 64,
   "id": "28155019-6059-4b23-b530-5a7cb76f54cf",
   "metadata": {},
   "outputs": [
    {
     "data": {
      "text/plain": [
       "24.0"
      ]
     },
     "execution_count": 64,
     "metadata": {},
     "output_type": "execute_result"
    }
   ],
   "source": [
    "# У нас осталось 4 цифры на 4 позиции \n",
    "n = factorial(4)\n",
    "n"
   ]
  },
  {
   "cell_type": "code",
   "execution_count": 66,
   "id": "d68353c2-beb9-48e1-bce0-7cb0dabd6add",
   "metadata": {},
   "outputs": [
    {
     "data": {
      "text/plain": [
       "2116800.0"
      ]
     },
     "execution_count": 66,
     "metadata": {},
     "output_type": "execute_result"
    }
   ],
   "source": [
    "# Общее число подходящих чисел будет при выполнении всех условий (всё перемножаем) \n",
    "total_char = all_socet*poss_char*n*t\n",
    "total_char"
   ]
  },
  {
   "cell_type": "code",
   "execution_count": 68,
   "id": "da3cb1dc-d3ee-435e-9bfe-652d7d3d6e90",
   "metadata": {},
   "outputs": [
    {
     "data": {
      "text/plain": [
       "90000000"
      ]
     },
     "execution_count": 68,
     "metadata": {},
     "output_type": "execute_result"
    }
   ],
   "source": [
    "# Общее число 8-х чисел (при учете что 0 первым не может быть)\n",
    "all_number = 9*(10**7)\n",
    "all_number"
   ]
  },
  {
   "cell_type": "code",
   "execution_count": 70,
   "id": "d74bcd21-13f9-4806-a967-ccaa3e0303a6",
   "metadata": {},
   "outputs": [
    {
     "data": {
      "text/plain": [
       "0.02352"
      ]
     },
     "execution_count": 70,
     "metadata": {},
     "output_type": "execute_result"
    }
   ],
   "source": [
    "total_ver = total_char/all_number\n",
    "total_ver"
   ]
  },
  {
   "cell_type": "markdown",
   "id": "947de6d0-a9bb-4cc9-afc5-cc11e692b752",
   "metadata": {},
   "source": [
    "Задача 1. В ящике 10 красных и 5 синих пуговиц. Вынимаются наудачу две пуговицы. Какова вероятность, что пуговицы будут одноцветными?"
   ]
  },
  {
   "cell_type": "code",
   "execution_count": 73,
   "id": "2efd10b7-4856-4dc3-9d5e-a9a2384e7efe",
   "metadata": {},
   "outputs": [
    {
     "data": {
      "text/plain": [
       "15"
      ]
     },
     "execution_count": 73,
     "metadata": {},
     "output_type": "execute_result"
    }
   ],
   "source": [
    "# Всего пуговиц\n",
    "n = 10+5\n",
    "n"
   ]
  },
  {
   "cell_type": "code",
   "execution_count": 75,
   "id": "64027a72-4b4e-46b8-80df-5a00074d9aef",
   "metadata": {},
   "outputs": [
    {
     "data": {
      "text/plain": [
       "105.0"
      ]
     },
     "execution_count": 75,
     "metadata": {},
     "output_type": "execute_result"
    }
   ],
   "source": [
    "# Общее число способов выбрать 2 пуговицы из 15(сочетаний)\n",
    "total_socet = factorial(n) // (factorial(n-2) * factorial(2))\n",
    "total_socet"
   ]
  },
  {
   "cell_type": "code",
   "execution_count": 77,
   "id": "d81b6f13-f430-41d1-be1f-84d89988d248",
   "metadata": {},
   "outputs": [
    {
     "data": {
      "text/plain": [
       "45.0"
      ]
     },
     "execution_count": 77,
     "metadata": {},
     "output_type": "execute_result"
    }
   ],
   "source": [
    "# Благоприятные исходы\n",
    "# Число способов выбрать 2 красные пуговицы из 10(сочетаний):\n",
    "good_socet = factorial(10) // (factorial(10-2) * factorial(2))\n",
    "good_socet"
   ]
  },
  {
   "cell_type": "code",
   "execution_count": 79,
   "id": "03f03882-3919-4ec3-9daf-885819a21f5d",
   "metadata": {},
   "outputs": [
    {
     "data": {
      "text/plain": [
       "10.0"
      ]
     },
     "execution_count": 79,
     "metadata": {},
     "output_type": "execute_result"
    }
   ],
   "source": [
    "# Число способов выбрать 2 синие пуговицы из 5:\n",
    "blue_socet = factorial(5) // (factorial(5-2) * factorial(2))\n",
    "blue_socet"
   ]
  },
  {
   "cell_type": "code",
   "execution_count": 81,
   "id": "48d1dc91-4f5f-41df-a5b3-0e00961bf4a9",
   "metadata": {},
   "outputs": [
    {
     "data": {
      "text/plain": [
       "55.0"
      ]
     },
     "execution_count": 81,
     "metadata": {},
     "output_type": "execute_result"
    }
   ],
   "source": [
    "# Общее число благоприятных исходов(складываем)\n",
    "all_socet = blue_socet + good_socet\n",
    "all_socet"
   ]
  },
  {
   "cell_type": "code",
   "execution_count": 83,
   "id": "b0949560-51b1-4a7f-8a22-3fca7ad49a51",
   "metadata": {},
   "outputs": [
    {
     "data": {
      "text/plain": [
       "0.5238095238095238"
      ]
     },
     "execution_count": 83,
     "metadata": {},
     "output_type": "execute_result"
    }
   ],
   "source": [
    "# Вероятность\n",
    "p = all_socet/total_socet\n",
    "p"
   ]
  },
  {
   "cell_type": "code",
   "execution_count": null,
   "id": "557f19c8-227d-44bb-95ea-7080f39ad501",
   "metadata": {},
   "outputs": [],
   "source": []
  }
 ],
 "metadata": {
  "kernelspec": {
   "display_name": "Python [conda env:base] *",
   "language": "python",
   "name": "conda-base-py"
  },
  "language_info": {
   "codemirror_mode": {
    "name": "ipython",
    "version": 3
   },
   "file_extension": ".py",
   "mimetype": "text/x-python",
   "name": "python",
   "nbconvert_exporter": "python",
   "pygments_lexer": "ipython3",
   "version": "3.12.7"
  }
 },
 "nbformat": 4,
 "nbformat_minor": 5
}
