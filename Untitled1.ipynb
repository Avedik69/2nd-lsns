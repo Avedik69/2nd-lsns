{
  "nbformat": 4,
  "nbformat_minor": 0,
  "metadata": {
    "colab": {
      "provenance": []
    },
    "kernelspec": {
      "name": "python3",
      "display_name": "Python 3"
    },
    "language_info": {
      "name": "python"
    }
  },
  "cells": [
    {
      "cell_type": "code",
      "source": [
        "from collections import Counter\n",
        "\n",
        "def most_frequent_chars(st):\n",
        "    st = st.replace(\" \", \"\")\n",
        "\n",
        "    counter = Counter(st)\n",
        "\n",
        "    most_common = counter.most_common(3)\n",
        "\n",
        "    return most_common\n",
        "\n",
        "st = \"aabbbcc cd\"\n",
        "result = most_frequent_chars(st)\n",
        "\n",
        "print(result)"
      ],
      "metadata": {
        "colab": {
          "base_uri": "https://localhost:8080/"
        },
        "id": "YQ7BOlC3gDUA",
        "outputId": "9ea11434-45a9-4951-9fd1-021e36d5ea73"
      },
      "execution_count": 5,
      "outputs": [
        {
          "output_type": "stream",
          "name": "stdout",
          "text": [
            "[('b', 3), ('c', 3), ('a', 2)]\n"
          ]
        }
      ]
    },
    {
      "cell_type": "code",
      "execution_count": 5,
      "metadata": {
        "colab": {
          "base_uri": "https://localhost:8080/"
        },
        "id": "opR4fJ7uT-d6",
        "outputId": "710cadad-8bf5-4b72-b173-646d2990f800"
      },
      "outputs": [
        {
          "output_type": "stream",
          "name": "stdout",
          "text": [
            "Есть контакт!\n"
          ]
        }
      ],
      "source": [
        "def search_substr(subst, st):\n",
        "\n",
        "    if subst.lower() in st.lower():\n",
        "        return \"Есть контакт!\"\n",
        "    else:\n",
        "        return \"Мимо!\"\n",
        "\n",
        "subst = \"abc\"\n",
        "st = \"AbCdef\"\n",
        "result = search_substr(subst, st)\n",
        "print(result)"
      ]
    },
    {
      "cell_type": "code",
      "source": [
        "from collections import Counter\n",
        "\n",
        "def count_it(sequence):\n",
        "    counter = Counter(sequence)\n",
        "\n",
        "    counter = {int(key): value for key, value in counter.items()}\n",
        "\n",
        "    most_common = dict(Counter(counter).most_common(3))\n",
        "\n",
        "    return most_common\n",
        "\n",
        "sequence = \"123312112233\"\n",
        "result = count_it(sequence)\n",
        "\n",
        "print(result)"
      ],
      "metadata": {
        "colab": {
          "base_uri": "https://localhost:8080/"
        },
        "id": "ryVD2WNWtT6B",
        "outputId": "93e0bfcb-50de-471b-b916-40801cf8f6b2"
      },
      "execution_count": 4,
      "outputs": [
        {
          "output_type": "stream",
          "name": "stdout",
          "text": [
            "{1: 4, 2: 4, 3: 4}\n"
          ]
        }
      ]
    },
    {
      "cell_type": "code",
      "source": [
        "def split_string_to_words(s):\n",
        "    return s.split()\n",
        "\n",
        "example = \"Robin Singh\"\n",
        "result = split_string_to_words(example)\n",
        "\n",
        "print(result)"
      ],
      "metadata": {
        "colab": {
          "base_uri": "https://localhost:8080/"
        },
        "id": "DwIFbT1E5cgJ",
        "outputId": "3bbd91d2-2b60-44bd-fa64-58f1db656fe2"
      },
      "execution_count": 3,
      "outputs": [
        {
          "output_type": "stream",
          "name": "stdout",
          "text": [
            "['Robin', 'Singh']\n"
          ]
        }
      ]
    },
    {
      "cell_type": "code",
      "source": [
        "def litres(time):\n",
        "    return int(time * 0.5)\n",
        "\n",
        "time = 3\n",
        "result = litres(time)\n",
        "print(f\"Litres: {result}\")\n",
        "\n",
        "time = 6.7\n",
        "result = litres(time)\n",
        "print(f\"Litres: {result}\")\n",
        "\n",
        "time = 11.8\n",
        "result = litres(time)\n",
        "print(f\"Litres: {result}\")"
      ],
      "metadata": {
        "colab": {
          "base_uri": "https://localhost:8080/"
        },
        "id": "7PxfpfG7vR61",
        "outputId": "2c79a820-b9f6-4a96-b31b-07280f9e253f"
      },
      "execution_count": 6,
      "outputs": [
        {
          "output_type": "stream",
          "name": "stdout",
          "text": [
            "Litres: 1\n",
            "Litres: 3\n",
            "Litres: 5\n"
          ]
        }
      ]
    },
    {
      "cell_type": "code",
      "source": [
        "def reverse_sequence(n):\n",
        "    return list(range(n, 0, -1))\n",
        "\n",
        "n = 5\n",
        "result = reverse_sequence(n)\n",
        "print(result)"
      ],
      "metadata": {
        "colab": {
          "base_uri": "https://localhost:8080/"
        },
        "id": "jkKcfU5swUVV",
        "outputId": "1e142081-5703-477f-cd4f-76048304d865"
      },
      "execution_count": 7,
      "outputs": [
        {
          "output_type": "stream",
          "name": "stdout",
          "text": [
            "[5, 4, 3, 2, 1]\n"
          ]
        }
      ]
    },
    {
      "cell_type": "code",
      "source": [
        "def get_century(year):\n",
        "    return (year + 99) // 100\n",
        "\n",
        "print(get_century(1705))\n",
        "print(get_century(1900))\n",
        "print(get_century(1601))\n",
        "print(get_century(2000))"
      ],
      "metadata": {
        "colab": {
          "base_uri": "https://localhost:8080/"
        },
        "id": "TBjOf9Nhwcnu",
        "outputId": "90451eb4-6a28-45ed-d942-e126855fb0f4"
      },
      "execution_count": 8,
      "outputs": [
        {
          "output_type": "stream",
          "name": "stdout",
          "text": [
            "18\n",
            "19\n",
            "17\n",
            "20\n"
          ]
        }
      ]
    },
    {
      "cell_type": "code",
      "source": [
        "def digitize(n):\n",
        "    return [int(digit) for digit in str(n)][::-1]\n",
        "\n",
        "print(digitize(35231))\n",
        "print(digitize(0))\n",
        "print(digitize(987654321))"
      ],
      "metadata": {
        "colab": {
          "base_uri": "https://localhost:8080/"
        },
        "id": "UTKtRXlAxA14",
        "outputId": "e975ebd1-eb96-491b-99f6-e6b776404110"
      },
      "execution_count": 9,
      "outputs": [
        {
          "output_type": "stream",
          "name": "stdout",
          "text": [
            "[1, 3, 2, 5, 3]\n",
            "[0]\n",
            "[1, 2, 3, 4, 5, 6, 7, 8, 9]\n"
          ]
        }
      ]
    }
  ]
}