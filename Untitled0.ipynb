{
  "nbformat": 4,
  "nbformat_minor": 0,
  "metadata": {
    "colab": {
      "provenance": []
    },
    "kernelspec": {
      "name": "python3",
      "display_name": "Python 3"
    },
    "language_info": {
      "name": "python"
    }
  },
  "cells": [
    {
      "cell_type": "code",
      "source": [
        "def equation(a, b, c):\n",
        "    D = b * b - 4 * a * c\n",
        "    if D > 0:\n",
        "        x1 = (-b + D**0.5) / (2 * a)\n",
        "        x2 = (-b - D**0.5) / (2 * a)\n",
        "        print(f\"Два корня: x1 = {x1}, x2 = {x2}\")\n",
        "    elif D == 0:\n",
        "        x = -b / (2 * a)\n",
        "        print(f\"Один корень: x = {x}\")\n",
        "    else:\n",
        "        print(\"Корней нет (дискриминант меньше нуля)\")\n",
        "\n",
        "equation(1, -12, 20)\n",
        "equation(1, 17, 72)\n",
        "equation(1, -7, -44)\n",
        "equation(1, 9, 8)\n",
        "equation(1, -2, -63)\n"
      ],
      "metadata": {
        "id": "MMVl33Om6_qR",
        "colab": {
          "base_uri": "https://localhost:8080/"
        },
        "outputId": "664ce7e6-b9f5-412e-8a59-52d1c2f32651"
      },
      "execution_count": 1,
      "outputs": [
        {
          "output_type": "stream",
          "name": "stdout",
          "text": [
            "Два корня: x1 = 10.0, x2 = 2.0\n",
            "Два корня: x1 = -8.0, x2 = -9.0\n",
            "Два корня: x1 = 11.0, x2 = -4.0\n",
            "Два корня: x1 = -1.0, x2 = -8.0\n",
            "Два корня: x1 = 9.0, x2 = -7.0\n"
          ]
        }
      ]
    },
    {
      "cell_type": "code",
      "source": [
        "my_list = [1, 2, 3, 4, 5]\n",
        "reversed_list = my_list[::-1]\n",
        "print(reversed_list)"
      ],
      "metadata": {
        "colab": {
          "base_uri": "https://localhost:8080/"
        },
        "id": "joBicKRxiFtL",
        "outputId": "5ca14ee1-b61a-428c-85b9-74f38f3aaaf7"
      },
      "execution_count": 3,
      "outputs": [
        {
          "output_type": "stream",
          "name": "stdout",
          "text": [
            "[5, 4, 3, 2, 1]\n"
          ]
        }
      ]
    },
    {
      "cell_type": "code",
      "source": [
        "def change(lst):\n",
        " if len(lst) < 2:\n",
        "    print()\n",
        "    return lst\n",
        " lst[0], lst[-1] = lst[-1], lst[0]\n",
        " return lst\n",
        "\n",
        " lst = [1, 2, 3, 4, 5]\n",
        " result = change(lst)\n",
        " print(result)"
      ],
      "metadata": {
        "id": "uJO31SZElWAe"
      },
      "execution_count": 7,
      "outputs": []
    }
  ]
}