{
 "cells": [
  {
   "cell_type": "code",
   "execution_count": 1,
   "id": "ed1a14c3-cb50-4dab-b338-2dd81b00a6b1",
   "metadata": {},
   "outputs": [],
   "source": [
    "import numpy as np\n",
    "from scipy import stats\n",
    "from scipy.special import perm, comb, factorial"
   ]
  },
  {
   "cell_type": "markdown",
   "id": "6acfd70f-78ec-4af1-95a8-bafc1b34af60",
   "metadata": {},
   "source": [
    "1. Из 1000 собранных на заводе телевизоров 5 штук бракованных. Эксперт проверяет один наугад выбранный телевизор из этой\n",
    "Найдите вероятность того, что проверяемый телевизор окажется бракованным."
   ]
  },
  {
   "cell_type": "code",
   "execution_count": 6,
   "id": "34731a05-1020-4fee-9c74-89ebcde06ba4",
   "metadata": {},
   "outputs": [
    {
     "data": {
      "text/plain": [
       "0.005"
      ]
     },
     "execution_count": 6,
     "metadata": {},
     "output_type": "execute_result"
    }
   ],
   "source": [
    "P = 5/1000\n",
    "P"
   ]
  },
  {
   "cell_type": "markdown",
   "id": "adaca8ba-ede5-41ea-a821-8c7db3ad47a4",
   "metadata": {},
   "source": [
    "2. В урне 9 красных, 6 жёлтых и 5 зелёных шаров. Из урны наугад достают один шар. Какова вероятность того, что этот шар окажется жёлтым?"
   ]
  },
  {
   "cell_type": "code",
   "execution_count": 11,
   "id": "7c059a81-47c8-4e86-856e-f0e8fe1a7a42",
   "metadata": {},
   "outputs": [
    {
     "data": {
      "text/plain": [
       "0.3"
      ]
     },
     "execution_count": 11,
     "metadata": {},
     "output_type": "execute_result"
    }
   ],
   "source": [
    "# Общее число шаров: 9+6+5 =20\n",
    "P = 6/20\n",
    "P"
   ]
  },
  {
   "cell_type": "markdown",
   "id": "e47467ad-a06b-4e5f-8f20-42a9a38cb75e",
   "metadata": {},
   "source": [
    "3. В чемпионате мира участвуют 16 команд. С помощью жребия их нужно разделить на четыре группы по четыре команды в каждой. В ящике вперемешку лежат карточки с номерами групп: 1, 1, 1, 1, 2, 2, 2, 2, 3, 3, 3, 3, 4, 4, 4, 4. Капитаны команд тянут по одной карточке. Какова вероятность того, что команда Португалии окажется во второй группе?\n",
    "Общее количество возможных исходов: Любая команда может вытянуть любую из 16 карточек.\n",
    "\n",
    "Число благоприятных исходов: Чтобы команда Португалии попала во вторую группу, она должна вытянуть одну из 4 карточек с номером \"2\"."
   ]
  },
  {
   "cell_type": "code",
   "execution_count": 15,
   "id": "28f009fa-43ea-49cf-85bc-ca8042ffd271",
   "metadata": {},
   "outputs": [
    {
     "data": {
      "text/plain": [
       "0.25"
      ]
     },
     "execution_count": 15,
     "metadata": {},
     "output_type": "execute_result"
    }
   ],
   "source": [
    "P = 4/16\n",
    "P"
   ]
  },
  {
   "cell_type": "markdown",
   "id": "ff1764af-09a6-46e4-938d-57227d0d4901",
   "metadata": {},
   "source": [
    "4. В группе туристов 8 человек. С помощью жребия они выбирают шестерых человек, которые должны идти в село в магазин за продуктами. Какова вероятность того, что турист Д., входящий в состав группы, пойдёт в магазин?"
   ]
  },
  {
   "cell_type": "code",
   "execution_count": 18,
   "id": "47eeda9f-2424-40be-8f6c-1b21ff9e5427",
   "metadata": {},
   "outputs": [
    {
     "data": {
      "text/plain": [
       "28.0"
      ]
     },
     "execution_count": 18,
     "metadata": {},
     "output_type": "execute_result"
    }
   ],
   "source": [
    "# Общее число исходов это сочетания (для выбора 6 человек из 8)\n",
    "C = factorial(8) // (factorial(6)*(factorial(8-6)))\n",
    "C"
   ]
  },
  {
   "cell_type": "code",
   "execution_count": 20,
   "id": "528a01c0-46d3-4dbd-9a4f-a858da389438",
   "metadata": {},
   "outputs": [
    {
     "data": {
      "text/plain": [
       "21.0"
      ]
     },
     "execution_count": 20,
     "metadata": {},
     "output_type": "execute_result"
    }
   ],
   "source": [
    "# Благоприятные условия. Это турист Д в группе и ее надо дополнить 5 людьми из 7 оставшихся\n",
    "\n",
    "C2 = factorial(7) // (factorial(5)*(factorial(7-5)))\n",
    "C2"
   ]
  },
  {
   "cell_type": "code",
   "execution_count": 22,
   "id": "73df5a13-aa90-4c55-aaf5-0e4512bfbd98",
   "metadata": {},
   "outputs": [
    {
     "data": {
      "text/plain": [
       "0.75"
      ]
     },
     "execution_count": 22,
     "metadata": {},
     "output_type": "execute_result"
    }
   ],
   "source": [
    "P = 21/28\n",
    "P"
   ]
  },
  {
   "cell_type": "markdown",
   "id": "ba889bdd-f9c8-49cd-9c50-130bb126e82b",
   "metadata": {},
   "source": [
    "5. В чемпионате по футболу участвуют 16 команд, которые жеребьевкой распределяются на 4 группы: A, B, C и D. Какова вероятность того, что команда Англии не попадает в группу A?\n",
    "Всего карточек с названиями групп 16, из них 4 относятся к группе A."
   ]
  },
  {
   "cell_type": "code",
   "execution_count": 25,
   "id": "5a818bce-229f-4b2b-82aa-9fc69156e596",
   "metadata": {},
   "outputs": [
    {
     "data": {
      "text/plain": [
       "0.25"
      ]
     },
     "execution_count": 25,
     "metadata": {},
     "output_type": "execute_result"
    }
   ],
   "source": [
    "# Вероятность того, что команда Англии вытянет карточку группы A:\n",
    "P = 4/16\n",
    "P"
   ]
  },
  {
   "cell_type": "code",
   "execution_count": 27,
   "id": "10f45c23-26de-4139-ae69-b787f74e4adb",
   "metadata": {},
   "outputs": [
    {
     "data": {
      "text/plain": [
       "0.75"
      ]
     },
     "execution_count": 27,
     "metadata": {},
     "output_type": "execute_result"
    }
   ],
   "source": [
    "# вероятность НЕ попадания в группу A\n",
    "P2 = 1 - P\n",
    "P2"
   ]
  },
  {
   "cell_type": "markdown",
   "id": "4b878ee8-82a2-4967-b637-a80b6a647dd9",
   "metadata": {},
   "source": [
    "6. В классе 21 учащийся, среди них две подруги - Аня и Нина. Класс случайным образом делят на семь групп, по 3 человека в каждой. Найдите вероятность того, что Аня и Нина окажутся в одной группе.\n",
    "Пусть Аня уже попала в какую-то группу. В группе уже есть 1 место занято (Аня), остается 2 свободных места. Осталось 20 человек, из которых 2 места в группе могут занять Нина или кто-то другой. Вероятность того, что именно Нина займет одно из этих мест, равна:"
   ]
  },
  {
   "cell_type": "code",
   "execution_count": 30,
   "id": "b5b14a0f-5441-4eed-ac89-42a36981878c",
   "metadata": {},
   "outputs": [
    {
     "data": {
      "text/plain": [
       "0.1"
      ]
     },
     "execution_count": 30,
     "metadata": {},
     "output_type": "execute_result"
    }
   ],
   "source": [
    "P = 2/20 \n",
    "P"
   ]
  },
  {
   "cell_type": "markdown",
   "id": "279a225c-6bee-4dcf-9ab6-0915327aea53",
   "metadata": {},
   "source": [
    "7. Механические часы с двенадцатичасовым циферблатом в какой-то момент сломались и перестали идти. Найдите вероятность того, что часовая стрелка остановилась, достигнув отметки 7, но не дойдя до отметки 1.\n",
    "Разобьем диапазоны часов на цифрблате на градусы(каждый час = 30°). Часовая стрелка указывает на 7 часов ровно, если находится на угле 210° Часовая стрелка достигает 1 часа, когда находится на 30°. Значит нам нужно найти вероятность того, что стрелка остановилась между 210° и 360° (0°).\n",
    "\n",
    "Общий диапазон возможных позиций стрелки:360°."
   ]
  },
  {
   "cell_type": "code",
   "execution_count": 37,
   "id": "f54c6816-fe55-4b45-828c-74f0a4cae8b6",
   "metadata": {},
   "outputs": [
    {
     "data": {
      "text/plain": [
       "0.4166666666666667"
      ]
     },
     "execution_count": 37,
     "metadata": {},
     "output_type": "execute_result"
    }
   ],
   "source": [
    "# Благоприятный диапазон:\n",
    "# P_blag = 360-210 = 150\n",
    "P = 150/360\n",
    "P"
   ]
  },
  {
   "cell_type": "markdown",
   "id": "d15369c6-eb06-4d52-aec8-5f9df4a186c5",
   "metadata": {},
   "source": [
    "8. Механические часы с двенадцатичасовым циферблатом в какой-то момент сломались и перестали ходить. Найдите вероятность того, что часовая стрелка застыла, достигнув отметки 6, но не дойдя до отметки 9 часов"
   ]
  },
  {
   "cell_type": "code",
   "execution_count": 40,
   "id": "cc376fa3-2a01-45c4-bac9-f59b915573b9",
   "metadata": {},
   "outputs": [
    {
     "data": {
      "text/plain": [
       "90"
      ]
     },
     "execution_count": 40,
     "metadata": {},
     "output_type": "execute_result"
    }
   ],
   "source": [
    "# Благоприятный диапазон:\n",
    "P_blag = 270-180 \n",
    "P_blag"
   ]
  },
  {
   "cell_type": "code",
   "execution_count": 42,
   "id": "1848acdf-1891-40bc-af7d-52be5454f79f",
   "metadata": {},
   "outputs": [
    {
     "data": {
      "text/plain": [
       "0.25"
      ]
     },
     "execution_count": 42,
     "metadata": {},
     "output_type": "execute_result"
    }
   ],
   "source": [
    "P = P_blag/360\n",
    "P"
   ]
  },
  {
   "cell_type": "markdown",
   "id": "c2fe03c1-9e43-47ec-9d27-333cffcd5600",
   "metadata": {},
   "source": [
    "9. В случайном эксперименте симметричную монету бросают 2 раза. Найдите вероятность того, что орел выпадет ровно 1 раз.\n",
    "При двух бросках у нас 4 возможных исхода:\n",
    "\n",
    "ОO (орёл-орёл) ОR (орёл-решка) RО (решка-орёл) RR (решка-решка) подходят только ОR (орёл-решка) и RО (решка-орёл)"
   ]
  },
  {
   "cell_type": "code",
   "execution_count": 45,
   "id": "139d58e0-ae7d-4929-b41d-4724bfbb2048",
   "metadata": {},
   "outputs": [
    {
     "data": {
      "text/plain": [
       "0.25"
      ]
     },
     "execution_count": 45,
     "metadata": {},
     "output_type": "execute_result"
    }
   ],
   "source": [
    "#базовые вероятности выпадения орла и решки = (1/2)\n",
    "\n",
    "# вертяность выпадаения ОR (орёл-решка) (при 2- бросках)\n",
    "POR = (1/2) * (1/2)\n",
    "POR"
   ]
  },
  {
   "cell_type": "code",
   "execution_count": 47,
   "id": "cc5679b9-547d-4e16-8f72-08da2829359c",
   "metadata": {},
   "outputs": [
    {
     "data": {
      "text/plain": [
       "0.25"
      ]
     },
     "execution_count": 47,
     "metadata": {},
     "output_type": "execute_result"
    }
   ],
   "source": [
    "# вероястноть выпадения RО (решка-орёл)\n",
    "PRО = (1/2) * (1/2)\n",
    "PRО"
   ]
  },
  {
   "cell_type": "code",
   "execution_count": 49,
   "id": "a11f54c6-b723-425c-b1ce-5b859a299b5c",
   "metadata": {},
   "outputs": [
    {
     "data": {
      "text/plain": [
       "0.5"
      ]
     },
     "execution_count": 49,
     "metadata": {},
     "output_type": "execute_result"
    }
   ],
   "source": [
    "P_all = POR + PRО\n",
    "P_all"
   ]
  },
  {
   "cell_type": "markdown",
   "id": "9396624d-1977-4b4b-936b-674b39c2796b",
   "metadata": {},
   "source": [
    "10. В случайном эксперименте симметричную монету бросают дважды. Найдите вероятность того, что орёл не выпадет ни разу."
   ]
  },
  {
   "cell_type": "code",
   "execution_count": 55,
   "id": "30772135-1d3e-4e62-9a37-ece2e5ef5037",
   "metadata": {},
   "outputs": [
    {
     "data": {
      "text/plain": [
       "0.25"
      ]
     },
     "execution_count": 55,
     "metadata": {},
     "output_type": "execute_result"
    }
   ],
   "source": [
    "# базовые вероятности выпадения орла и решки = (1/2)\n",
    "# вероятность выпадаения решка-решка (при 2- бросках)\n",
    "PRR = (1/2) * (1/2)\n",
    "PRR"
   ]
  },
  {
   "cell_type": "markdown",
   "id": "f38c9d45-a8cf-46e0-8ff0-2e2d43599a16",
   "metadata": {},
   "source": [
    "11. Вероятность того, что новая шариковая ручка пишет плохо (или не пишет), равна 0,19. Покупатель в магазине выбирает одну такую ручку. Найдите вероятность того, что эта ручка пишет хорошо."
   ]
  },
  {
   "cell_type": "code",
   "execution_count": 59,
   "id": "98beebf1-77dc-4bb5-a55c-68bae3725392",
   "metadata": {},
   "outputs": [
    {
     "data": {
      "text/plain": [
       "0.81"
      ]
     },
     "execution_count": 59,
     "metadata": {},
     "output_type": "execute_result"
    }
   ],
   "source": [
    "# находится по формуле доп вероятности\n",
    "P=1-0.19\n",
    "P"
   ]
  },
  {
   "cell_type": "markdown",
   "id": "9101a9a4-9af0-4d5e-b3a5-f10def8f3146",
   "metadata": {},
   "source": [
    "12. При изготовлении подшипников диаметром 67 мм вероятность того, что диаметр будет отличаться от заданного не больше, чем на 0,01 мм, равна 0,965. Найдите вероятность того, что случайный подшипник будет иметь диаметр меньше чем 66,99 мм или больше чем 67,01 мм.\n",
    "Вероятность того, что диаметр выйдет за этот диапазон (будет меньше 66,99 мм или больше 67,01 мм) — это дополнительное событие. следовательно:"
   ]
  },
  {
   "cell_type": "code",
   "execution_count": 62,
   "id": "ee58d463-c717-46b8-a840-b7368ef0db24",
   "metadata": {},
   "outputs": [
    {
     "data": {
      "text/plain": [
       "0.03500000000000003"
      ]
     },
     "execution_count": 62,
     "metadata": {},
     "output_type": "execute_result"
    }
   ],
   "source": [
    "1-0.965"
   ]
  },
  {
   "cell_type": "code",
   "execution_count": null,
   "id": "e1b86886-03fe-4c35-8bd6-bfbb36918505",
   "metadata": {},
   "outputs": [],
   "source": []
  }
 ],
 "metadata": {
  "kernelspec": {
   "display_name": "Python [conda env:base] *",
   "language": "python",
   "name": "conda-base-py"
  },
  "language_info": {
   "codemirror_mode": {
    "name": "ipython",
    "version": 3
   },
   "file_extension": ".py",
   "mimetype": "text/x-python",
   "name": "python",
   "nbconvert_exporter": "python",
   "pygments_lexer": "ipython3",
   "version": "3.12.7"
  }
 },
 "nbformat": 4,
 "nbformat_minor": 5
}
