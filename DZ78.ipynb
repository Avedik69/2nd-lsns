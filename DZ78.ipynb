{
  "nbformat": 4,
  "nbformat_minor": 0,
  "metadata": {
    "colab": {
      "provenance": []
    },
    "kernelspec": {
      "name": "python3",
      "display_name": "Python 3"
    },
    "language_info": {
      "name": "python"
    }
  },
  "cells": [
    {
      "cell_type": "code",
      "execution_count": null,
      "metadata": {
        "id": "Q74qhXxQ5IoI"
      },
      "outputs": [],
      "source": [
        "class Pocket:\n",
        "  def __init__(self, name, cashback):\n",
        "    self._balance = 0\n",
        "    self.name = name\n",
        "    self.cashback = cashback\n",
        "\n",
        "  def add(self, money):\n",
        "    self._balance += money\n",
        "\n",
        "  def cashback_add(self):\n",
        "    self._balance += self._balance*self.cashback\n",
        "\n",
        "  @property\n",
        "  def balance(self):\n",
        "    return self._balance"
      ]
    },
    {
      "cell_type": "code",
      "source": [
        "card = Pocket('Avi', 5)\n",
        "print(card.balance)\n",
        "card.add(1000)\n",
        "print(card.balance)"
      ],
      "metadata": {
        "colab": {
          "base_uri": "https://localhost:8080/"
        },
        "id": "Glrf7YtKa1ml",
        "outputId": "6bf68c0d-8151-4e2d-81a2-0b1c3ceed389"
      },
      "execution_count": null,
      "outputs": [
        {
          "output_type": "stream",
          "name": "stdout",
          "text": [
            "0\n",
            "1000\n"
          ]
        }
      ]
    },
    {
      "cell_type": "code",
      "source": [
        "card.cashback_add()\n",
        "print(card.balance)"
      ],
      "metadata": {
        "colab": {
          "base_uri": "https://localhost:8080/"
        },
        "id": "VQPyVOVEcK56",
        "outputId": "2b229df7-24a2-4132-92e5-51a4423c3ce6"
      },
      "execution_count": null,
      "outputs": [
        {
          "output_type": "stream",
          "name": "stdout",
          "text": [
            "6000\n"
          ]
        }
      ]
    },
    {
      "cell_type": "code",
      "source": [
        "class Card(Pocket):\n",
        "  def dollar(self):\n",
        "    return super().balance / 3.4\n",
        "card1 = Card('Avi', 10)\n",
        "card1.dollar()\n",
        "card1.add(1000)\n",
        "card1.dollar()"
      ],
      "metadata": {
        "colab": {
          "base_uri": "https://localhost:8080/"
        },
        "id": "RMV7VOwudFvd",
        "outputId": "e5267e73-2330-45be-a96d-0d6659dbb874"
      },
      "execution_count": null,
      "outputs": [
        {
          "output_type": "execute_result",
          "data": {
            "text/plain": [
              "294.11764705882354"
            ]
          },
          "metadata": {},
          "execution_count": 13
        }
      ]
    },
    {
      "cell_type": "markdown",
      "source": [
        "# ДЗ7"
      ],
      "metadata": {
        "id": "q_UxwiSAeikM"
      }
    },
    {
      "cell_type": "code",
      "source": [
        "class Money:\n",
        "    def __init__(self, rubles, kopecks):\n",
        "        self.rubles = rubles + kopecks // 100\n",
        "        self.kopecks = kopecks % 100\n",
        "\n",
        "    def __str__(self):\n",
        "        return f\"{self.rubles},{self.kopecks:02d}\"\n",
        "\n",
        "    def to_kopecks(self):\n",
        "        return self.rubles * 100 + self.kopecks\n",
        "\n",
        "    @staticmethod\n",
        "    def from_kopecks(total_kopecks):\n",
        "        return Money(total_kopecks // 100, total_kopecks % 100)\n",
        "\n",
        "    def __add__(self, other):\n",
        "        return Money.from_kopecks(self.to_kopecks() + other.to_kopecks())\n",
        "\n",
        "    def __sub__(self, other):\n",
        "        return Money.from_kopecks(self.to_kopecks() - other.to_kopecks())\n",
        "\n",
        "    def __truediv__(self, other):\n",
        "        if isinstance(other, Money):\n",
        "            return self.to_kopecks() / other.to_kopecks()\n",
        "        return Money.from_kopecks(int(self.to_kopecks() / other))\n",
        "\n",
        "    def __mul__(self, factor):\n",
        "        return Money.from_kopecks(int(self.to_kopecks() * factor))\n",
        "\n",
        "    def __lt__(self, other):\n",
        "        return self.to_kopecks() < other.to_kopecks()\n",
        "\n",
        "    def __le__(self, other):\n",
        "        return self.to_kopecks() <= other.to_kopecks()\n",
        "\n",
        "    def __eq__(self, other):\n",
        "        return self.to_kopecks() == other.to_kopecks()\n",
        "\n",
        "    def __ne__(self, other):\n",
        "        return self.to_kopecks() != other.to_kopecks()\n",
        "\n",
        "    def __gt__(self, other):\n",
        "        return self.to_kopecks() > other.to_kopecks()\n",
        "\n",
        "    def __ge__(self, other):\n",
        "        return self.to_kopecks() >= other.to_kopecks()\n",
        "\n",
        "\n",
        "m1 = Money(5, 75)  # 5 рублей 75 копеек\n",
        "m2 = Money(3, 50)  # 3 рубля 50 копеек\n",
        "\n",
        "print(m1 + m2)\n",
        "print(m1 - m2)\n",
        "print(m1 * 2.5)\n",
        "print(m1 / 2)\n",
        "print(m1 / m2)\n",
        "print(m1 > m2)"
      ],
      "metadata": {
        "colab": {
          "base_uri": "https://localhost:8080/"
        },
        "id": "nsWG4MOUer8j",
        "outputId": "3c0aa108-cde3-4069-d7ed-ed7e22192abc"
      },
      "execution_count": 1,
      "outputs": [
        {
          "output_type": "stream",
          "name": "stdout",
          "text": [
            "9,25\n",
            "2,25\n",
            "14,37\n",
            "2,87\n",
            "1.6428571428571428\n",
            "True\n"
          ]
        }
      ]
    },
    {
      "cell_type": "code",
      "source": [
        "class Matrix:\n",
        "    def __init__(self, data):\n",
        "        self.data = data\n",
        "        self.rows = len(data)\n",
        "        self.cols = len(data[0]) if data else 0\n",
        "\n",
        "    def __str__(self):\n",
        "        return '\\n'.join([' '.join(map(str, row)) for row in self.data])\n",
        "\n",
        "    def __add__(self, other):\n",
        "        if self.rows != other.rows or self.cols != other.cols:\n",
        "            raise ValueError(\"Матрицы должны быть одного размера\")\n",
        "        return Matrix([[self.data[i][j] + other.data[i][j] for j in range(self.cols)] for i in range(self.rows)])\n",
        "\n",
        "    def __mul__(self, scalar):\n",
        "        return Matrix([[self.data[i][j] * scalar for j in range(self.cols)] for i in range(self.rows)])\n",
        "\n",
        "\n",
        "m1 = Matrix([[1, 2], [3, 4]])\n",
        "m2 = Matrix([[5, 6], [7, 8]])\n",
        "print(m1 + m2)\n",
        "print(m1 * 2)\n"
      ],
      "metadata": {
        "colab": {
          "base_uri": "https://localhost:8080/"
        },
        "id": "jGq9d9gpSbKQ",
        "outputId": "d6cefb8d-f3df-4a09-8048-95393cdbadd8"
      },
      "execution_count": 2,
      "outputs": [
        {
          "output_type": "stream",
          "name": "stdout",
          "text": [
            "6 8\n",
            "10 12\n",
            "2 4\n",
            "6 8\n"
          ]
        }
      ]
    },
    {
      "cell_type": "code",
      "source": [
        "import numpy as np\n",
        "\n",
        "class Structure:\n",
        "    def __add__(self, other):\n",
        "        raise NotImplementedError\n",
        "\n",
        "    def __mul__(self, scalar):\n",
        "        raise NotImplementedError\n",
        "\n",
        "class Vector(Structure):\n",
        "    def __init__(self, data):\n",
        "        self.data = np.array(data)\n",
        "\n",
        "    def __str__(self):\n",
        "        return str(self.data)\n",
        "\n",
        "    def __add__(self, other):\n",
        "        if len(self.data) != len(other.data):\n",
        "            raise ValueError(\"Векторы должны быть одной длины\")\n",
        "        return Vector(self.data + other.data)\n",
        "\n",
        "    def __mul__(self, scalar):\n",
        "        return Vector(self.data * scalar)\n",
        "\n",
        "class Matrix(Structure):\n",
        "    def __init__(self, data):\n",
        "        self.data = np.array(data)\n",
        "\n",
        "    def __str__(self):\n",
        "        return str(self.data)\n",
        "\n",
        "    def __add__(self, other):\n",
        "        if self.data.shape != other.data.shape:\n",
        "            raise ValueError(\"Матрицы должны быть одного размера\")\n",
        "        return Matrix(self.data + other.data)\n",
        "\n",
        "    def __mul__(self, scalar):\n",
        "        return Matrix(self.data * scalar)\n",
        "\n",
        "\n",
        "v1 = Vector([1, 2, 3])\n",
        "v2 = Vector([4, 5, 6])\n",
        "print(v1 + v2)\n",
        "print(v1 * 2)\n",
        "\n",
        "m1 = Matrix([[1, 2], [3, 4]])\n",
        "m2 = Matrix([[5, 6], [7, 8]])\n",
        "print(m1 + m2)\n",
        "print(m1 * 2)\n",
        ""
      ],
      "metadata": {
        "colab": {
          "base_uri": "https://localhost:8080/"
        },
        "id": "KWE_ue28ThC1",
        "outputId": "ea23d8db-2838-41e2-d78d-7912fa920eeb"
      },
      "execution_count": 5,
      "outputs": [
        {
          "output_type": "stream",
          "name": "stdout",
          "text": [
            "[5 7 9]\n",
            "[2 4 6]\n",
            "[[ 6  8]\n",
            " [10 12]]\n",
            "[[2 4]\n",
            " [6 8]]\n"
          ]
        }
      ]
    },
    {
      "cell_type": "code",
      "source": [
        "class Electronics:\n",
        "    def __init__(self, brand, price):\n",
        "        self.brand = brand\n",
        "        self.price = price\n",
        "\n",
        "    def info(self):\n",
        "        return f\"Бренд: {self.brand}, Цена: {self.price} руб.\"\n",
        "\n",
        "class Smartphone(Electronics):\n",
        "    def __init__(self, brand, price, os, camera_mp):\n",
        "        super().__init__(brand, price)\n",
        "        self.os = os\n",
        "        self.camera_mp = camera_mp\n",
        "\n",
        "    def info(self):\n",
        "        return f\"{super().info()}, ОС: {self.os}, Камера: {self.camera_mp} МП\"\n",
        "\n",
        "class Laptop(Electronics):\n",
        "    def __init__(self, brand, price, ram, cpu):\n",
        "        super().__init__(brand, price)\n",
        "        self.ram = ram\n",
        "        self.cpu = cpu\n",
        "\n",
        "    def info(self):\n",
        "        return f\"{super().info()}, ОЗУ: {self.ram} ГБ, Процессор: {self.cpu}\"\n",
        "\n",
        "class Smartwatch(Electronics):\n",
        "    def __init__(self, brand, price, battery_life, sport_mode):\n",
        "        super().__init__(brand, price)\n",
        "        self.battery_life = battery_life\n",
        "        self.sport_mode = sport_mode\n",
        "\n",
        "    def info(self):\n",
        "        return f\"{super().info()}, Время работы: {self.battery_life} ч, Спортивный режим: {'Есть' if self.sport_mode else 'Нет'}\"\n",
        "\n",
        "# Пример использования\n",
        "smartphone = Smartphone(\"Apple\", 100000, \"iOS\", 12)\n",
        "laptop = Laptop(\"Dell\", 80000, 16, \"Intel i7\")\n",
        "smartwatch = Smartwatch(\"Samsung\", 20000, 24, True)\n",
        "\n",
        "print(smartphone.info())\n",
        "print(laptop.info())\n",
        "print(smartwatch.info())"
      ],
      "metadata": {
        "colab": {
          "base_uri": "https://localhost:8080/"
        },
        "id": "Yu_-17RnQoPS",
        "outputId": "e3a1f0ca-f5bc-42aa-fd08-d6498ff0f434"
      },
      "execution_count": 1,
      "outputs": [
        {
          "output_type": "stream",
          "name": "stdout",
          "text": [
            "Бренд: Apple, Цена: 100000 руб., ОС: iOS, Камера: 12 МП\n",
            "Бренд: Dell, Цена: 80000 руб., ОЗУ: 16 ГБ, Процессор: Intel i7\n",
            "Бренд: Samsung, Цена: 20000 руб., Время работы: 24 ч, Спортивный режим: Есть\n"
          ]
        }
      ]
    }
  ]
}